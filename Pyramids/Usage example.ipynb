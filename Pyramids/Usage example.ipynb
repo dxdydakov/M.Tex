{
 "cells": [
  {
   "cell_type": "code",
   "execution_count": 1,
   "id": "522a857e-4f64-482a-9498-2b5bfd03cdcd",
   "metadata": {},
   "outputs": [],
   "source": [
    "from Compressor import Compressor"
   ]
  },
  {
   "cell_type": "code",
   "execution_count": 2,
   "id": "ea40467f-c2db-4410-a2db-15919fa473e2",
   "metadata": {},
   "outputs": [],
   "source": [
    "a = Compressor()\n",
    "a.compress('input.txt')"
   ]
  },
  {
   "cell_type": "code",
   "execution_count": null,
   "id": "d2e6b9bf-c8eb-4624-ab12-663b96d116de",
   "metadata": {},
   "outputs": [],
   "source": []
  },
  {
   "cell_type": "code",
   "execution_count": null,
   "id": "65a6237b-ebe6-43f0-9f31-4c7a24262e39",
   "metadata": {},
   "outputs": [],
   "source": []
  }
 ],
 "metadata": {
  "kernelspec": {
   "display_name": "Python 3 (ipykernel)",
   "language": "python",
   "name": "python3"
  },
  "language_info": {
   "codemirror_mode": {
    "name": "ipython",
    "version": 3
   },
   "file_extension": ".py",
   "mimetype": "text/x-python",
   "name": "python",
   "nbconvert_exporter": "python",
   "pygments_lexer": "ipython3",
   "version": "3.9.13"
  }
 },
 "nbformat": 4,
 "nbformat_minor": 5
}
