{
 "cells": [
  {
   "cell_type": "code",
   "execution_count": 4,
   "id": "522a857e-4f64-482a-9498-2b5bfd03cdcd",
   "metadata": {},
   "outputs": [],
   "source": [
    "from Compressor import Compressor"
   ]
  },
  {
   "cell_type": "code",
   "execution_count": 5,
   "id": "ea40467f-c2db-4410-a2db-15919fa473e2",
   "metadata": {},
   "outputs": [],
   "source": [
    "a = Compressor()\n",
    "a.compress('input.txt')"
   ]
  },
  {
   "cell_type": "code",
   "execution_count": null,
   "id": "83622685-f598-4310-9c72-c01fc8f634de",
   "metadata": {},
   "outputs": [],
   "source": []
  }
 ],
 "metadata": {
  "kernelspec": {
   "display_name": "Python 3 (ipykernel)",
   "language": "python",
   "name": "python3"
  },
  "language_info": {
   "codemirror_mode": {
    "name": "ipython",
    "version": 3
   },
   "file_extension": ".py",
   "mimetype": "text/x-python",
   "name": "python",
   "nbconvert_exporter": "python",
   "pygments_lexer": "ipython3",
   "version": "3.9.13"
  }
 },
 "nbformat": 4,
 "nbformat_minor": 5
}
